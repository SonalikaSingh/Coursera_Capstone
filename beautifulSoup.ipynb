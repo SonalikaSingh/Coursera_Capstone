{
 "cells": [
  {
   "cell_type": "code",
   "execution_count": 1,
   "metadata": {},
   "outputs": [],
   "source": [
    "import requests"
   ]
  },
  {
   "cell_type": "code",
   "execution_count": 2,
   "metadata": {},
   "outputs": [],
   "source": [
    "from bs4 import BeautifulSoup\n",
    "url = \"https://en.wikipedia.org/wiki/List_of_postal_codes_of_Canada:_M\""
   ]
  },
  {
   "cell_type": "code",
   "execution_count": 3,
   "metadata": {},
   "outputs": [],
   "source": [
    "r = requests.get(url)\n",
    "html = r.content\n",
    "#print(htmlcontent)\n"
   ]
  },
  {
   "cell_type": "code",
   "execution_count": 4,
   "metadata": {},
   "outputs": [],
   "source": [
    "soup = BeautifulSoup(html, 'html.parser')\n",
    "#print(soup)\n",
    "#print(soup.prettify)"
   ]
  },
  {
   "cell_type": "code",
   "execution_count": 5,
   "metadata": {},
   "outputs": [],
   "source": [
    "#Tree Traversal for html"
   ]
  },
  {
   "cell_type": "code",
   "execution_count": 6,
   "metadata": {},
   "outputs": [
    {
     "name": "stdout",
     "output_type": "stream",
     "text": [
      "List of postal codes of Canada: M - Wikipedia\n"
     ]
    }
   ],
   "source": [
    "title = soup.title\n",
    "print(title.string)"
   ]
  },
  {
   "cell_type": "markdown",
   "metadata": {},
   "source": [
    "## Commonly used types of objects:\n",
    "## 1. Tag   2. NavigabeString  3. BeautifulSoup  4. Comment\n"
   ]
  },
  {
   "cell_type": "code",
   "execution_count": 7,
   "metadata": {},
   "outputs": [
    {
     "name": "stdout",
     "output_type": "stream",
     "text": [
      "<class 'bs4.BeautifulSoup'>\n",
      "<class 'bs4.element.Tag'>\n",
      "<class 'bs4.element.NavigableString'>\n"
     ]
    }
   ],
   "source": [
    "print(type(soup))\n",
    "print(type(title))\n",
    "print(type(title.string))"
   ]
  },
  {
   "cell_type": "code",
   "execution_count": 8,
   "metadata": {},
   "outputs": [],
   "source": [
    "#get all the paragraphs from the page.\n",
    "paras = soup.find_all('p')\n",
    "#print(paras)"
   ]
  },
  {
   "cell_type": "code",
   "execution_count": 9,
   "metadata": {},
   "outputs": [],
   "source": [
    "#get all the anchor tags from the page.\n",
    "anchors = soup.find_all('a')\n",
    "#print(paras)  "
   ]
  },
  {
   "cell_type": "code",
   "execution_count": 10,
   "metadata": {},
   "outputs": [
    {
     "name": "stdout",
     "output_type": "stream",
     "text": [
      "<p>This is a list of <a href=\"/wiki/Postal_codes_in_Canada\" title=\"Postal codes in Canada\">postal codes in Canada</a> where the first letter is M. Postal codes beginning with M are located within the city of <a href=\"/wiki/Toronto\" title=\"Toronto\">Toronto</a> in the province of <a href=\"/wiki/Ontario\" title=\"Ontario\">Ontario</a>. Only the first three characters are listed, corresponding to the Forward Sortation Area.\n",
      "</p>\n"
     ]
    }
   ],
   "source": [
    "print(soup.find('p')) #get first element in the html page"
   ]
  },
  {
   "cell_type": "code",
   "execution_count": 12,
   "metadata": {},
   "outputs": [
    {
     "name": "stdout",
     "output_type": "stream",
     "text": [
      "<p>This is a list of <a href=\"/wiki/Postal_codes_in_Canada\" title=\"Postal codes in Canada\">postal codes in Canada</a> where the first letter is M. Postal codes beginning with M are located within the city of <a href=\"/wiki/Toronto\" title=\"Toronto\">Toronto</a> in the province of <a href=\"/wiki/Ontario\" title=\"Ontario\">Ontario</a>. Only the first three characters are listed, corresponding to the Forward Sortation Area.\n",
      "</p>\n"
     ]
    }
   ],
   "source": [
    "print(soup.find('p')) # get classes of any element in the html page"
   ]
  },
  {
   "cell_type": "code",
   "execution_count": 13,
   "metadata": {},
   "outputs": [
    {
     "name": "stdout",
     "output_type": "stream",
     "text": [
      "[]\n"
     ]
    }
   ],
   "source": [
    "#find all the elements with class lead\n",
    "print(soup.find_all(\"p\",class_=\"lead\"))"
   ]
  },
  {
   "cell_type": "code",
   "execution_count": 14,
   "metadata": {},
   "outputs": [
    {
     "name": "stdout",
     "output_type": "stream",
     "text": [
      "This is a list of postal codes in Canada where the first letter is M. Postal codes beginning with M are located within the city of Toronto in the province of Ontario. Only the first three characters are listed, corresponding to the Forward Sortation Area.\n",
      "\n"
     ]
    }
   ],
   "source": [
    "#get the text from the tags/soup\n",
    "print(soup.find('p').get_text())\n",
    "#print(soup.get_text())"
   ]
  },
  {
   "cell_type": "code",
   "execution_count": 25,
   "metadata": {},
   "outputs": [
    {
     "name": "stdout",
     "output_type": "stream",
     "text": [
      "None\n",
      "#mw-head\n",
      "#p-search\n",
      "/wiki/Postal_codes_in_Canada\n",
      "/wiki/Toronto\n",
      "/wiki/Ontario\n",
      "/wiki/Canada_Post\n",
      "#cite_note-1\n",
      "/wiki/Mobile_app\n",
      "/wiki/Smartphones\n",
      "/wiki/IPhone\n",
      "/wiki/BlackBerry\n",
      "#cite_note-2\n",
      "/wiki/CD-ROM\n",
      "/wiki/Toronto\n",
      "/wiki/Postal_codes_in_Canada#Forward_sortation_areas\n",
      "/w/index.php?title=List_of_postal_codes_of_Canada:_M&action=edit&section=1\n",
      "/wiki/Amazon_(company)\n",
      "#cite_note-statcan-3\n",
      "/w/index.php?title=List_of_postal_codes_of_Canada:_M&action=edit&section=2\n",
      "#cite_note-statcan-3\n",
      "/w/index.php?title=List_of_postal_codes_of_Canada:_M&action=edit&section=3\n",
      "/w/index.php?title=List_of_postal_codes_of_Canada:_M&action=edit&section=4\n",
      "#cite_ref-1\n",
      "https://www.canadapost.ca/cpotools/apps/fpc/personal/findByCity?execution=e2s1\n",
      "#cite_ref-2\n",
      "https://web.archive.org/web/20110519093024/http://www.canadapost.ca/cpo/mc/personal/tools/mobileapp/default.jsf\n",
      "http://www.canadapost.ca/cpo/mc/personal/tools/mobileapp/default.jsf\n",
      "#cite_ref-statcan_3-0\n",
      "#cite_ref-statcan_3-1\n",
      "http://www12.statcan.ca/english/census06/data/popdwell/Table.cfm?T=1201&SR=1&S=0&O=A&RPP=9999&PR=0&CMA=0\n",
      "/wiki/File:Flag_of_Canada.svg\n",
      "/wiki/Postal_codes_in_Canada\n",
      "/wiki/File:Canadian_postal_district_map_(without_legends).svg\n",
      "/wiki/Newfoundland_and_Labrador\n",
      "/wiki/Nova_Scotia\n",
      "/wiki/Prince_Edward_Island\n",
      "/wiki/New_Brunswick\n",
      "/wiki/Quebec\n",
      "/wiki/Ontario\n",
      "/wiki/Manitoba\n",
      "/wiki/Saskatchewan\n",
      "/wiki/Alberta\n",
      "/wiki/British_Columbia\n",
      "/wiki/Nunavut\n",
      "/wiki/Northwest_Territories\n",
      "/wiki/Yukon\n",
      "/wiki/List_of_postal_codes_of_Canada:_A\n",
      "/wiki/List_of_postal_codes_of_Canada:_B\n",
      "/wiki/List_of_postal_codes_of_Canada:_C\n",
      "/wiki/List_of_postal_codes_of_Canada:_E\n",
      "/wiki/List_of_postal_codes_of_Canada:_G\n",
      "/wiki/List_of_postal_codes_of_Canada:_H\n",
      "/wiki/List_of_postal_codes_of_Canada:_J\n",
      "/wiki/List_of_postal_codes_of_Canada:_K\n",
      "/wiki/List_of_postal_codes_of_Canada:_L\n",
      "None\n",
      "/wiki/List_of_postal_codes_of_Canada:_N\n",
      "/wiki/List_of_postal_codes_of_Canada:_P\n",
      "/wiki/List_of_postal_codes_of_Canada:_R\n",
      "/wiki/List_of_postal_codes_of_Canada:_S\n",
      "/wiki/List_of_postal_codes_of_Canada:_T\n",
      "/wiki/List_of_postal_codes_of_Canada:_V\n",
      "/wiki/List_of_postal_codes_of_Canada:_X\n",
      "/wiki/List_of_postal_codes_of_Canada:_Y\n",
      "https://en.wikipedia.org/w/index.php?title=List_of_postal_codes_of_Canada:_M&oldid=951325562\n",
      "/wiki/Help:Category\n",
      "/wiki/Category:Communications_in_Ontario\n",
      "/wiki/Category:Postal_codes_in_Canada\n",
      "/wiki/Category:Toronto\n",
      "/wiki/Category:Ontario-related_lists\n",
      "/wiki/Category:Articles_with_short_description\n",
      "/wiki/Special:MyTalk\n",
      "/wiki/Special:MyContributions\n",
      "/w/index.php?title=Special:CreateAccount&returnto=List+of+postal+codes+of+Canada%3A+M\n",
      "/w/index.php?title=Special:UserLogin&returnto=List+of+postal+codes+of+Canada%3A+M\n",
      "/wiki/List_of_postal_codes_of_Canada:_M\n",
      "/wiki/Talk:List_of_postal_codes_of_Canada:_M\n",
      "/wiki/List_of_postal_codes_of_Canada:_M\n",
      "/w/index.php?title=List_of_postal_codes_of_Canada:_M&action=edit\n",
      "/w/index.php?title=List_of_postal_codes_of_Canada:_M&action=history\n",
      "/wiki/Main_Page\n",
      "/wiki/Main_Page\n",
      "/wiki/Wikipedia:Contents\n",
      "/wiki/Wikipedia:Featured_content\n",
      "/wiki/Portal:Current_events\n",
      "/wiki/Special:Random\n",
      "https://donate.wikimedia.org/wiki/Special:FundraiserRedirector?utm_source=donate&utm_medium=sidebar&utm_campaign=C13_en.wikipedia.org&uselang=en\n",
      "//shop.wikimedia.org\n",
      "/wiki/Help:Contents\n",
      "/wiki/Wikipedia:About\n",
      "/wiki/Wikipedia:Community_portal\n",
      "/wiki/Special:RecentChanges\n",
      "//en.wikipedia.org/wiki/Wikipedia:Contact_us\n",
      "/wiki/Special:WhatLinksHere/List_of_postal_codes_of_Canada:_M\n",
      "/wiki/Special:RecentChangesLinked/List_of_postal_codes_of_Canada:_M\n",
      "/wiki/Wikipedia:File_Upload_Wizard\n",
      "/wiki/Special:SpecialPages\n",
      "/w/index.php?title=List_of_postal_codes_of_Canada:_M&oldid=951325562\n",
      "/w/index.php?title=List_of_postal_codes_of_Canada:_M&action=info\n",
      "https://www.wikidata.org/wiki/Special:EntityPage/Q3248240\n",
      "/w/index.php?title=Special:CiteThisPage&page=List_of_postal_codes_of_Canada%3A_M&id=951325562&wpFormIdentifier=titleform\n",
      "/w/index.php?title=Special:Book&bookcmd=book_creator&referer=List+of+postal+codes+of+Canada%3A+M\n",
      "/w/index.php?title=Special:ElectronPdf&page=List+of+postal+codes+of+Canada%3A+M&action=show-download-screen\n",
      "/w/index.php?title=List_of_postal_codes_of_Canada:_M&printable=yes\n",
      "https://fr.wikipedia.org/wiki/Liste_des_codes_postaux_canadiens_d%C3%A9butant_par_M\n",
      "https://www.wikidata.org/wiki/Special:EntityPage/Q3248240#sitelinks-wikipedia\n",
      "//en.wikipedia.org/wiki/Wikipedia:Text_of_Creative_Commons_Attribution-ShareAlike_3.0_Unported_License\n",
      "//creativecommons.org/licenses/by-sa/3.0/\n",
      "//foundation.wikimedia.org/wiki/Terms_of_Use\n",
      "//foundation.wikimedia.org/wiki/Privacy_policy\n",
      "//www.wikimediafoundation.org/\n",
      "https://foundation.wikimedia.org/wiki/Privacy_policy\n",
      "/wiki/Wikipedia:About\n",
      "/wiki/Wikipedia:General_disclaimer\n",
      "//en.wikipedia.org/wiki/Wikipedia:Contact_us\n",
      "https://www.mediawiki.org/wiki/Special:MyLanguage/How_to_contribute\n",
      "https://stats.wikimedia.org/#/en.wikipedia.org\n",
      "https://foundation.wikimedia.org/wiki/Cookie_statement\n",
      "//en.m.wikipedia.org/w/index.php?title=List_of_postal_codes_of_Canada:_M&mobileaction=toggle_view_mobile\n",
      "https://wikimediafoundation.org/\n",
      "https://www.mediawiki.org/\n",
      "{'/wiki/Category:Toronto', '/wiki/Wikipedia:Community_portal', '/wiki/Special:RecentChangesLinked/List_of_postal_codes_of_Canada:_M', '/wiki/Special:Random', '#mw-head', '/wiki/Main_Page', '#cite_ref-statcan_3-0', '/wiki/List_of_postal_codes_of_Canada:_H', '/wiki/Category:Postal_codes_in_Canada', '//foundation.wikimedia.org/wiki/Terms_of_Use', '/wiki/List_of_postal_codes_of_Canada:_Y', '/wiki/Saskatchewan', 'https://www.wikidata.org/wiki/Special:EntityPage/Q3248240', '#cite_ref-2', '/wiki/List_of_postal_codes_of_Canada:_E', '#cite_note-statcan-3', '/wiki/List_of_postal_codes_of_Canada:_R', '/wiki/Special:MyContributions', '/wiki/British_Columbia', '/w/index.php?title=List_of_postal_codes_of_Canada:_M&printable=yes', 'https://foundation.wikimedia.org/wiki/Cookie_statement', '/wiki/Northwest_Territories', '/wiki/Nova_Scotia', '#cite_ref-1', '/wiki/List_of_postal_codes_of_Canada:_K', '/wiki/Category:Communications_in_Ontario', '/wiki/Amazon_(company)', '//creativecommons.org/licenses/by-sa/3.0/', '/w/index.php?title=List_of_postal_codes_of_Canada:_M&action=history', '/wiki/CD-ROM', 'http://www.canadapost.ca/cpo/mc/personal/tools/mobileapp/default.jsf', 'https://fr.wikipedia.org/wiki/Liste_des_codes_postaux_canadiens_d%C3%A9butant_par_M', '#p-search', '/wiki/Wikipedia:General_disclaimer', '/wiki/List_of_postal_codes_of_Canada:_P', '/wiki/List_of_postal_codes_of_Canada:_C', '/w/index.php?title=List_of_postal_codes_of_Canada:_M&action=edit&section=3', 'https://foundation.wikimedia.org/wiki/Privacy_policy', '/w/index.php?title=Special:ElectronPdf&page=List+of+postal+codes+of+Canada%3A+M&action=show-download-screen', '/w/index.php?title=List_of_postal_codes_of_Canada:_M&action=edit&section=1', 'https://web.archive.org/web/20110519093024/http://www.canadapost.ca/cpo/mc/personal/tools/mobileapp/default.jsf', '//en.wikipedia.org/wiki/Wikipedia:Contact_us', '/w/index.php?title=Special:CiteThisPage&page=List_of_postal_codes_of_Canada%3A_M&id=951325562&wpFormIdentifier=titleform', '/wiki/Canada_Post', '/w/index.php?title=List_of_postal_codes_of_Canada:_M&action=edit', '/wiki/Yukon', '/wiki/Postal_codes_in_Canada', 'http://www12.statcan.ca/english/census06/data/popdwell/Table.cfm?T=1201&SR=1&S=0&O=A&RPP=9999&PR=0&CMA=0', '/wiki/Wikipedia:About', '/wiki/Newfoundland_and_Labrador', '/wiki/List_of_postal_codes_of_Canada:_S', '/wiki/Help:Contents', '/wiki/Category:Articles_with_short_description', '/wiki/Talk:List_of_postal_codes_of_Canada:_M', 'https://www.wikidata.org/wiki/Special:EntityPage/Q3248240#sitelinks-wikipedia', None, '/w/index.php?title=Special:Book&bookcmd=book_creator&referer=List+of+postal+codes+of+Canada%3A+M', 'https://stats.wikimedia.org/#/en.wikipedia.org', '/wiki/Wikipedia:Featured_content', '/wiki/Smartphones', '/wiki/Special:MyTalk', '/wiki/Wikipedia:Contents', '/wiki/Prince_Edward_Island', 'https://www.mediawiki.org/wiki/Special:MyLanguage/How_to_contribute', '/wiki/List_of_postal_codes_of_Canada:_M', '/wiki/List_of_postal_codes_of_Canada:_N', '/wiki/Postal_codes_in_Canada#Forward_sortation_areas', '/wiki/Toronto', '/wiki/IPhone', '/wiki/List_of_postal_codes_of_Canada:_B', '/wiki/List_of_postal_codes_of_Canada:_X', '/w/index.php?title=List_of_postal_codes_of_Canada:_M&action=edit&section=2', '/wiki/BlackBerry', '#cite_note-2', '/wiki/List_of_postal_codes_of_Canada:_V', '#cite_note-1', '#cite_ref-statcan_3-1', 'https://en.wikipedia.org/w/index.php?title=List_of_postal_codes_of_Canada:_M&oldid=951325562', 'https://donate.wikimedia.org/wiki/Special:FundraiserRedirector?utm_source=donate&utm_medium=sidebar&utm_campaign=C13_en.wikipedia.org&uselang=en', '/w/index.php?title=List_of_postal_codes_of_Canada:_M&action=info', '/wiki/Ontario', '//www.wikimediafoundation.org/', '/wiki/Wikipedia:File_Upload_Wizard', '/wiki/Mobile_app', '/w/index.php?title=List_of_postal_codes_of_Canada:_M&action=edit&section=4', '//shop.wikimedia.org', '/w/index.php?title=Special:UserLogin&returnto=List+of+postal+codes+of+Canada%3A+M', 'https://wikimediafoundation.org/', '/wiki/Portal:Current_events', '/wiki/File:Flag_of_Canada.svg', '/wiki/Quebec', '/wiki/Alberta', '/wiki/List_of_postal_codes_of_Canada:_G', '//en.wikipedia.org/wiki/Wikipedia:Text_of_Creative_Commons_Attribution-ShareAlike_3.0_Unported_License', '/wiki/Manitoba', '//en.m.wikipedia.org/w/index.php?title=List_of_postal_codes_of_Canada:_M&mobileaction=toggle_view_mobile', '/wiki/Special:WhatLinksHere/List_of_postal_codes_of_Canada:_M', '/wiki/Special:RecentChanges', 'https://www.canadapost.ca/cpotools/apps/fpc/personal/findByCity?execution=e2s1', '/wiki/Help:Category', '/wiki/Category:Ontario-related_lists', '/wiki/New_Brunswick', '/wiki/List_of_postal_codes_of_Canada:_J', '/wiki/Nunavut', '/wiki/List_of_postal_codes_of_Canada:_A', '/wiki/List_of_postal_codes_of_Canada:_L', '/wiki/Special:SpecialPages', '/wiki/File:Canadian_postal_district_map_(without_legends).svg', '/w/index.php?title=Special:CreateAccount&returnto=List+of+postal+codes+of+Canada%3A+M', '/w/index.php?title=List_of_postal_codes_of_Canada:_M&oldid=951325562', '/wiki/List_of_postal_codes_of_Canada:_T', 'https://www.mediawiki.org/', '//foundation.wikimedia.org/wiki/Privacy_policy'}\n"
     ]
    }
   ],
   "source": [
    "#get all the links on the page:\n",
    "all_links = set()\n",
    "for link in anchors:\n",
    "    if(link.get('href') != '#'):\n",
    "        linkadd = link.get('href')\n",
    "        #linkadd = \"https://en.wikipedia.org/wiki/List_of_postal_codes_of_Canada:_M\"+link.get('href')\n",
    "        all_links.add(linkadd)\n",
    "        print(linkadd)\n",
    "print(all_links)"
   ]
  },
  {
   "cell_type": "code",
   "execution_count": 26,
   "metadata": {},
   "outputs": [
    {
     "name": "stdout",
     "output_type": "stream",
     "text": [
      "<p><!-- this is a comment --></p>\n"
     ]
    }
   ],
   "source": [
    "# showing fourth object --- comment\n",
    "\n",
    "markup = \"<p><!-- this is a comment --><p>\"\n",
    "soup2 = BeautifulSoup(markup)\n",
    "print(soup2.p)"
   ]
  },
  {
   "cell_type": "code",
   "execution_count": 27,
   "metadata": {},
   "outputs": [
    {
     "name": "stdout",
     "output_type": "stream",
     "text": [
      " this is a comment \n",
      "<class 'bs4.element.Comment'>\n"
     ]
    }
   ],
   "source": [
    "print(soup2.p.string)\n",
    "print(type(soup2.p.string))"
   ]
  },
  {
   "cell_type": "code",
   "execution_count": null,
   "metadata": {},
   "outputs": [],
   "source": []
  }
 ],
 "metadata": {
  "kernelspec": {
   "display_name": "Python 3",
   "language": "python",
   "name": "python3"
  },
  "language_info": {
   "codemirror_mode": {
    "name": "ipython",
    "version": 3
   },
   "file_extension": ".py",
   "mimetype": "text/x-python",
   "name": "python",
   "nbconvert_exporter": "python",
   "pygments_lexer": "ipython3",
   "version": "3.7.2"
  }
 },
 "nbformat": 4,
 "nbformat_minor": 2
}
